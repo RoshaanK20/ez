{
 "cells": [
  {
   "cell_type": "code",
   "execution_count": 2,
   "id": "f002d438",
   "metadata": {},
   "outputs": [
    {
     "name": "stdout",
     "output_type": "stream",
     "text": [
      "900\n"
     ]
    }
   ],
   "source": [
    "''' Equation No 1: (a**2 + 2*a*b + b**2) '''\n",
    "a=10\n",
    "b=20\n",
    "R= a**2 + 2*a*b + b**2\n",
    "print (R)\n",
    "    "
   ]
  },
  {
   "cell_type": "code",
   "execution_count": 5,
   "id": "e76194ec",
   "metadata": {},
   "outputs": [
    {
     "name": "stdout",
     "output_type": "stream",
     "text": [
      "80\n"
     ]
    }
   ],
   "source": [
    "''' Equation No 2: (2*a*b)''' \n",
    "a=20\n",
    "b=2\n",
    "R= 2*a*b\n",
    "print (R)"
   ]
  },
  {
   "cell_type": "code",
   "execution_count": 7,
   "id": "453b1704",
   "metadata": {},
   "outputs": [
    {
     "name": "stdout",
     "output_type": "stream",
     "text": [
      "360000000000000000\n"
     ]
    }
   ],
   "source": [
    "''' Equation No 3: (E=m*c**2) '''\n",
    "m=4\n",
    "c=3*10**8\n",
    "E= m*c**2\n",
    "print (E)"
   ]
  },
  {
   "cell_type": "code",
   "execution_count": 5,
   "id": "b8b11fe6",
   "metadata": {},
   "outputs": [
    {
     "name": "stdout",
     "output_type": "stream",
     "text": [
      "2.5\n"
     ]
    }
   ],
   "source": [
    "''' Equation NO 4: {[-b + (b**2 - 4*a*c)**0.5 / 2*a]}'''\n",
    "a=10\n",
    "b=5\n",
    "c=2\n",
    "X=b**2 - 4*a*c\n",
    "Y= (X)**0.5\n",
    "Z= 2*a\n",
    "O= (-b-X)/Z\n",
    "print (O)\n",
    "\n"
   ]
  },
  {
   "cell_type": "code",
   "execution_count": 6,
   "id": "078cdf8a",
   "metadata": {},
   "outputs": [
    {
     "name": "stdout",
     "output_type": "stream",
     "text": [
      "78.53981633974483\n"
     ]
    }
   ],
   "source": [
    "''' Equation No 5: A = π*r**2 '''\n",
    "r=5\n",
    "import math\n",
    "x= math.pi\n",
    "A= x*(r)**2\n",
    "print (A)\n",
    "\n"
   ]
  }
 ],
 "metadata": {
  "kernelspec": {
   "display_name": "Python 3 (ipykernel)",
   "language": "python",
   "name": "python3"
  },
  "language_info": {
   "codemirror_mode": {
    "name": "ipython",
    "version": 3
   },
   "file_extension": ".py",
   "mimetype": "text/x-python",
   "name": "python",
   "nbconvert_exporter": "python",
   "pygments_lexer": "ipython3",
   "version": "3.11.5"
  }
 },
 "nbformat": 4,
 "nbformat_minor": 5
}
